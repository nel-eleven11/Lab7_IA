{
  "nbformat": 4,
  "nbformat_minor": 0,
  "metadata": {
    "colab": {
      "provenance": [],
      "authorship_tag": "ABX9TyOJgoCaq3I2AezsQI3MiVJk"
    },
    "kernelspec": {
      "name": "python3",
      "display_name": "Python 3"
    },
    "language_info": {
      "name": "python"
    }
  },
  "cells": [
    {
      "cell_type": "markdown",
      "source": [
        "# Laboratorio 7\n",
        "\n",
        "Nelson García Bravatti\n",
        "Christian Echeverría\n",
        "Ricardo Chuy"
      ],
      "metadata": {
        "id": "k9zSaJbWVqM0"
      }
    },
    {
      "cell_type": "markdown",
      "source": [
        "## Tasks 1 - Teoría\n",
        "\n",
        "Responda las siguientes preguntas de forma clara y concisa, pueden subir un PDF o bien dentro del mismo Jupyter\n",
        "Notebook."
      ],
      "metadata": {
        "id": "oOuoAzhxVywz"
      }
    },
    {
      "cell_type": "markdown",
      "source": [
        "1. ¿Qué es el temporal difference learning y en qué se diferencia de los métodos tradicionales de aprendizaje supervisado? Explique el concepto de \"error de diferencia temporal\" y su papel en los algoritmos de aprendizaje por refuerzo.\n",
        "\n",
        "\n",
        "2. En el contexto de los juegos simultáneos, ¿cómo toman decisiones los jugadores sin conocer las acciones de sus oponentes? De un ejemplo de un escenario del mundo real que pueda modelarse como un juego simultáneo y discuta las estrategias que los jugadores podrían emplear en tal situación.\n",
        "\n",
        "\n",
        "3. ¿Qué distingue los juegos de suma cero de los juegos de suma cero y cómo afecta esta diferencia al proceso de toma de decisiones de los jugadores? Proporcione al menos un ejemplo de juegos que entren en la categoría de juegos de no suma cero y discuta las consideraciones estratégicas únicas involucradas.\n",
        "\n",
        "\n",
        "4. ¿Cómo se aplica el concepto de equilibrio de Nash a los juegos simultáneos? Explicar cómo el equilibrio de Nash representa una solución estable en la que ningún jugador tiene un incentivo para desviarse unilateralmente de la estrategia elegida.\n",
        "\n",
        "\n",
        "5. Discuta la aplicación del temporal difference learning en el modelado y optimización de procesos de toma de decisiones en entornos dinámicos. ¿Cómo maneja el temporal difference learning el equilibrio entre exploración y explotación y cuáles son algunos de los desafíos asociados con su implementación en la práctica?"
      ],
      "metadata": {
        "id": "z98FgIzTV7kV"
      }
    },
    {
      "cell_type": "markdown",
      "source": [
        "## Task 2 - Connect Four"
      ],
      "metadata": {
        "id": "3880FouCV3ur"
      }
    },
    {
      "cell_type": "code",
      "execution_count": null,
      "metadata": {
        "id": "rfNstKBsVlLL"
      },
      "outputs": [],
      "source": []
    }
  ]
}